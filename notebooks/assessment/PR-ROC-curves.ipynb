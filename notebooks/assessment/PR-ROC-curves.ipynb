{
 "cells": [
  {
   "cell_type": "markdown",
   "metadata": {},
   "source": [
    "# Plotting precision-recall (PR) and ROC curves"
   ]
  },
  {
   "cell_type": "markdown",
   "metadata": {},
   "source": [
    "## Support code"
   ]
  },
  {
   "cell_type": "code",
   "execution_count": 1,
   "metadata": {},
   "outputs": [],
   "source": [
    "import numpy as np\n",
    "import pandas as pd\n",
    "import matplotlib.pyplot as plt\n",
    "from sklearn.linear_model import LinearRegression, Ridge, Lasso, LogisticRegression\n",
    "from sklearn.ensemble import RandomForestClassifier, RandomForestRegressor\n",
    "from sklearn.datasets import load_boston, load_iris, load_wine, load_digits, \\\n",
    "                             load_breast_cancer, load_diabetes\n",
    "from sklearn.model_selection import train_test_split\n",
    "from sklearn.metrics import confusion_matrix, precision_score, recall_score, roc_curve\n",
    "from pandas.api.types import is_numeric_dtype\n",
    "from matplotlib import colors\n",
    "import colour\n",
    "\n",
    "import pltvid  # pip install pltvid"
   ]
  },
  {
   "cell_type": "markdown",
   "metadata": {},
   "source": [
    "Here's a method to show the decision boundary of any model that can respond to `predict_proba()` from scikit-learn:"
   ]
  },
  {
   "cell_type": "code",
   "execution_count": null,
   "metadata": {},
   "outputs": [],
   "source": [
    "def show_decision(model, df, features,\n",
    "                  threshold=0.5, boundary_tolerance=.01,\n",
    "                  normalize=False,\n",
    "                  ax=None,\n",
    "                  figsize=(4, 3),\n",
    "                  legend_loc='lower right',\n",
    "                  verbose=True,\n",
    "                  file=None):\n",
    "    if normalize:\n",
    "        df = df.copy()\n",
    "        df[features[0]] = (df[features[0]] - np.mean(df[features[0]])) / np.std(\n",
    "            df[features[0]])\n",
    "        df[features[1]] = (df[features[1]] - np.mean(df[features[1]])) / np.std(\n",
    "            df[features[1]])\n",
    "\n",
    "    X = df[features].values\n",
    "    y = df['y'].values\n",
    "    grid = []  # a list of coordinate pairs for the grid\n",
    "    for p in np.linspace(min(X[:, 0]), max(X[:, 0]), num=100):\n",
    "        for a in np.linspace(min(X[:, 1]), max(X[:, 1]), num=100):\n",
    "            grid.append([p, a])\n",
    "    grid = np.array(grid)\n",
    "    proba = model.predict_proba(grid)[:, 1]\n",
    "\n",
    "    if verbose:\n",
    "        y_proba = model.predict_proba(X)[:, 1]\n",
    "        y_pred = (y_proba >= threshold).astype(int)\n",
    "        ncorrect = np.sum(y_pred == y)\n",
    "        accur = ncorrect / len(y)\n",
    "        prec = precision_score(y, y_pred)\n",
    "        recall = recall_score(y, y_pred)\n",
    "        print(f\"Accuracy {ncorrect}/{len(y)}={accur:.2f}\")\n",
    "        print(f\"(threshold,precision,recall) = ({threshold:.2f},{prec:.3f},{recall:.3f})\")\n",
    "\n",
    "    grid_boundary = grid[np.isclose(proba, threshold, atol=boundary_tolerance)]\n",
    "\n",
    "    if ax is None:\n",
    "        fig, ax = plt.subplots(figsize=figsize)\n",
    "\n",
    "    X0 = X[y == 0]\n",
    "    X1 = X[y == 1]\n",
    "\n",
    "    orange = colour.Color(\"#F46C43\")\n",
    "    blue = colour.Color(\"#4574B4\")\n",
    "    mycolors = np.array(list(c.hex for c in orange.range_to(blue, 100 + 1)))\n",
    "    mycolors = mycolors[(proba * 100).astype(int)]\n",
    "    # cmap = plt.get_cmap('coolwarm')\n",
    "    # norm = colors.Normalize(np.min(proba), np.max(proba))\n",
    "    ax.scatter(grid[:, 0], grid[:, 1], s=.2, c=mycolors, alpha=.3)\n",
    "\n",
    "    ax.scatter(grid_boundary[:, 0], grid_boundary[:, 1], s=1, c='k', alpha=1)\n",
    "\n",
    "    ax.text((max(X[:, 0]) + min(X[:, 0])) / 2,\n",
    "            max(X[:, 1]),\n",
    "            \"$P(y=1|{\\\\bf x})\\\\geq$\" + f'{threshold:.2f}',\n",
    "            horizontalalignment='center')\n",
    "\n",
    "    c0 = ax.scatter(X0[:, 0], X0[:, 1], marker='x', s=45, lw=.9, color='#F46C43', alpha=1,\n",
    "                    label='class 0')\n",
    "    c1 = ax.scatter(X1[:, 0], X1[:, 1], marker='o', s=45, lw=.9, color='#4574B4',\n",
    "                    alpha=.75, label='class 1')\n",
    "\n",
    "    ax.spines['top'].set_visible(False)  # turns off the top \"spine\" completely\n",
    "    ax.spines['right'].set_visible(False)\n",
    "    ax.spines['left'].set_linewidth(.5)\n",
    "    ax.spines['bottom'].set_linewidth(.5)\n",
    "\n",
    "    ax.set_xlabel(features[0])\n",
    "    ax.set_ylabel(features[1])\n",
    "    if legend_loc is not None:\n",
    "        ax.legend([c0, c1], ['class 0', 'class 1'], loc=legend_loc)\n",
    "    plt.tight_layout()\n"
   ]
  },
  {
   "cell_type": "markdown",
   "metadata": {},
   "source": [
    "## Logistic regression using toy wine data set"
   ]
  },
  {
   "cell_type": "code",
   "execution_count": 2,
   "metadata": {},
   "outputs": [
    {
     "data": {
      "text/plain": [
       "LogisticRegression()"
      ]
     },
     "execution_count": 2,
     "metadata": {},
     "output_type": "execute_result"
    }
   ],
   "source": [
    "wine = load_wine()\n",
    "df_wine = pd.DataFrame(data=wine.data, columns=wine.feature_names)\n",
    "df_wine['y'] = wine.target\n",
    "df_wine = df_wine[df_wine['y']<2] # Only do 2-class problem {0,1}\n",
    "\n",
    "features = ['alcohol', 'total_phenols']\n",
    "X = df_wine[features]\n",
    "y = df_wine['y']\n",
    "\n",
    "lg = LogisticRegression(solver='lbfgs')\n",
    "lg.fit(X,y)"
   ]
  },
  {
   "cell_type": "markdown",
   "metadata": {},
   "source": [
    "Now, let's show the decision boundary at various thresholds, capturing each frame and saving as an animated gift (using [pltvid](https://github.com/parrt/pltvid)):"
   ]
  },
  {
   "cell_type": "code",
   "execution_count": null,
   "metadata": {},
   "outputs": [],
   "source": [
    "camera = pltvid.Capture(dpi=dpi)\n",
    "\n",
    "p_history = []\n",
    "r_history = []\n",
    "tpr_history = []\n",
    "fpr_history = []\n",
    "\n",
    "steps = np.arange(0.05, 0.97, step=.03)\n",
    "# for threshold in np.append(np.arange(0.05,0.97,step=.03), [.97]*7):\n",
    "for i, threshold in enumerate(steps):\n",
    "    fig, axes = plt.subplots(1, 3, figsize=(10, 3))\n",
    "\n",
    "    show_decision(lg, df_wine, features=['alcohol', 'total_phenols'],\n",
    "                  threshold=threshold, boundary_tolerance=0.003,\n",
    "                  ax=axes[0],\n",
    "                  figsize=(5, 4),\n",
    "                  verbose=False\n",
    "                  )\n",
    "\n",
    "    y_proba = lg.predict_proba(X)[:, 1]\n",
    "    y_pred = (y_proba >= threshold).astype(int)\n",
    "    ncorrect = np.sum(y_pred == y)\n",
    "    accur = ncorrect / len(y)\n",
    "    prec = precision_score(y, y_pred)\n",
    "    recall = recall_score(y, y_pred)\n",
    "    axes[0].set_title(\"Logistic Regression Threshold\")\n",
    "\n",
    "    p_history.append(prec)\n",
    "    r_history.append(recall)\n",
    "    axes[1].plot(r_history, p_history, '-', color='k', linewidth=0.75)\n",
    "    axes[1].plot(recall, prec, '.', color='red')\n",
    "    align = 'right'\n",
    "    axes[1].text(recall * .98, prec * .98,\n",
    "                 \"$P(y=1|{\\\\bf x})\\\\geq$\" + f'{threshold:.2f}',\n",
    "                 horizontalalignment=align, verticalalignment='top')\n",
    "\n",
    "    axes[1].spines['top'].set_visible(False)  # turns off the top \"spine\" completely\n",
    "    axes[1].spines['right'].set_visible(False)\n",
    "    axes[1].spines['left'].set_linewidth(.5)\n",
    "    axes[1].spines['bottom'].set_linewidth(.5)\n",
    "    axes[1].set_xlim(0, 1.05)\n",
    "    axes[1].set_ylim(0, 1.05)\n",
    "    axes[1].set_xlabel(\"Recall\")\n",
    "    axes[1].set_ylabel(\"Precision\")\n",
    "    axes[1].set_title(\"PR Curve\")\n",
    "\n",
    "    tn, fp, fn, tp = confusion_matrix(y, y_pred).ravel()\n",
    "    tpr = tp / (tp + fn)\n",
    "    fpr = fp / (fp + tn)\n",
    "    tpr_history.append(tpr)\n",
    "    fpr_history.append(fpr)\n",
    "    axes[2].plot(fpr_history, tpr_history, '-', color='k', linewidth=.75)\n",
    "    axes[2].plot(fpr, tpr, '.', color='red')\n",
    "    align = 'left' if fpr * 1.03 < .6 else 'right'\n",
    "    axes[2].text(fpr * 1.03, tpr * .98, \"$P(y=1|{\\\\bf x})\\\\geq$\" + f'{threshold:.2f}',\n",
    "                 horizontalalignment=align, verticalalignment='top')\n",
    "\n",
    "    axes[2].spines['top'].set_visible(False)  # turns off the top \"spine\" completely\n",
    "    axes[2].spines['right'].set_visible(False)\n",
    "    axes[2].spines['left'].set_linewidth(.5)\n",
    "    axes[2].spines['bottom'].set_linewidth(.5)\n",
    "    axes[2].set_xlim(-0.05, 1.05)\n",
    "    axes[2].set_ylim(0, 1.05)\n",
    "    axes[2].set_xlabel(\"False positive rate\")\n",
    "    axes[2].set_ylabel(\"True positive rate\")\n",
    "    axes[2].set_title(\"ROC (TPR vs FPR)\")\n",
    "\n",
    "    if np.abs(threshold - 0.5) < .02:\n",
    "        camera.snap(5)\n",
    "    elif i == len(steps) - 1:\n",
    "        camera.snap(8)\n",
    "    else:\n",
    "        camera.snap()\n",
    "\n",
    "camera.save(\"/tmp/wine.gif\", duration=200)"
   ]
  },
  {
   "cell_type": "markdown",
   "metadata": {},
   "source": [
    "When you run that, it will save the animation in `/tmp/wine.gif`, which looks like:\n",
    "\n",
    "<img src=\"wine-PR-ROC.gif\" width=\"500\">"
   ]
  }
 ],
 "metadata": {
  "kernelspec": {
   "display_name": "Python 3",
   "language": "python",
   "name": "python3"
  },
  "language_info": {
   "codemirror_mode": {
    "name": "ipython",
    "version": 3
   },
   "file_extension": ".py",
   "mimetype": "text/x-python",
   "name": "python",
   "nbconvert_exporter": "python",
   "pygments_lexer": "ipython3",
   "version": "3.8.6"
  }
 },
 "nbformat": 4,
 "nbformat_minor": 4
}
