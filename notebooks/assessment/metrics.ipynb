{
 "cells": [
  {
   "cell_type": "markdown",
   "metadata": {},
   "source": [
    "# Model assessment basics"
   ]
  },
  {
   "cell_type": "code",
   "execution_count": 43,
   "metadata": {},
   "outputs": [],
   "source": [
    "import pandas as pd\n",
    "import numpy as np\n",
    "from sklearn.model_selection import train_test_split\n",
    "from sklearn.ensemble import RandomForestRegressor, RandomForestClassifier\n",
    "from sklearn.metrics import r2_score, mean_absolute_error, mean_squared_error\n",
    "from sklearn.model_selection import KFold\n",
    "from sklearn.model_selection import cross_val_score\n",
    "from sklearn.datasets import load_boston, load_iris, load_wine, load_digits, \\\n",
    "                             load_breast_cancer, load_diabetes, fetch_mldata\n",
    "\n",
    "pd.options.display.float_format = '{:,.3f}'.format"
   ]
  },
  {
   "cell_type": "markdown",
   "metadata": {},
   "source": [
    "## Training set metric on random data"
   ]
  },
  {
   "cell_type": "code",
   "execution_count": 10,
   "metadata": {},
   "outputs": [
    {
     "data": {
      "text/plain": [
       "0.8521911296804429"
      ]
     },
     "execution_count": 10,
     "metadata": {},
     "output_type": "execute_result"
    }
   ],
   "source": [
    "X_train = np.random.random((1000,4))\n",
    "y_train = np.random.random(1000)\n",
    "rf = RandomForestRegressor(n_estimators=100)\n",
    "rf.fit(X_train, y_train)\n",
    "rf.score(X_train, y_train)"
   ]
  },
  {
   "cell_type": "markdown",
   "metadata": {},
   "source": [
    "## NYC rent testing"
   ]
  },
  {
   "cell_type": "code",
   "execution_count": 14,
   "metadata": {},
   "outputs": [
    {
     "data": {
      "text/html": [
       "<div>\n",
       "<style scoped>\n",
       "    .dataframe tbody tr th:only-of-type {\n",
       "        vertical-align: middle;\n",
       "    }\n",
       "\n",
       "    .dataframe tbody tr th {\n",
       "        vertical-align: top;\n",
       "    }\n",
       "\n",
       "    .dataframe thead th {\n",
       "        text-align: right;\n",
       "    }\n",
       "</style>\n",
       "<table border=\"1\" class=\"dataframe\">\n",
       "  <thead>\n",
       "    <tr style=\"text-align: right;\">\n",
       "      <th></th>\n",
       "      <th>bedrooms</th>\n",
       "      <th>bathrooms</th>\n",
       "      <th>latitude</th>\n",
       "      <th>longitude</th>\n",
       "    </tr>\n",
       "  </thead>\n",
       "  <tbody>\n",
       "    <tr>\n",
       "      <th>10</th>\n",
       "      <td>3</td>\n",
       "      <td>1.500</td>\n",
       "      <td>40.715</td>\n",
       "      <td>-73.942</td>\n",
       "    </tr>\n",
       "    <tr>\n",
       "      <th>10000</th>\n",
       "      <td>2</td>\n",
       "      <td>1.000</td>\n",
       "      <td>40.795</td>\n",
       "      <td>-73.967</td>\n",
       "    </tr>\n",
       "    <tr>\n",
       "      <th>100004</th>\n",
       "      <td>1</td>\n",
       "      <td>1.000</td>\n",
       "      <td>40.739</td>\n",
       "      <td>-74.002</td>\n",
       "    </tr>\n",
       "    <tr>\n",
       "      <th>100007</th>\n",
       "      <td>1</td>\n",
       "      <td>1.000</td>\n",
       "      <td>40.754</td>\n",
       "      <td>-73.968</td>\n",
       "    </tr>\n",
       "    <tr>\n",
       "      <th>100013</th>\n",
       "      <td>4</td>\n",
       "      <td>1.000</td>\n",
       "      <td>40.824</td>\n",
       "      <td>-73.949</td>\n",
       "    </tr>\n",
       "  </tbody>\n",
       "</table>\n",
       "</div>"
      ],
      "text/plain": [
       "        bedrooms  bathrooms  latitude  longitude\n",
       "10             3      1.500    40.715    -73.942\n",
       "10000          2      1.000    40.795    -73.967\n",
       "100004         1      1.000    40.739    -74.002\n",
       "100007         1      1.000    40.754    -73.968\n",
       "100013         4      1.000    40.824    -73.949"
      ]
     },
     "execution_count": 14,
     "metadata": {},
     "output_type": "execute_result"
    }
   ],
   "source": [
    "df_rent = pd.read_json(\"data/rent-train.json\")\n",
    "features = ['bedrooms', 'bathrooms', 'latitude', 'longitude']\n",
    "df_rent = df_rent[features+['price']]\n",
    "X = df_rent.drop('price', axis=1)\n",
    "y = df_rent['price']\n",
    "X.head()"
   ]
  },
  {
   "cell_type": "markdown",
   "metadata": {},
   "source": [
    "**Break out 20% hold out validation set**"
   ]
  },
  {
   "cell_type": "code",
   "execution_count": 15,
   "metadata": {},
   "outputs": [],
   "source": [
    "X_train, X_test, y_train, y_test = train_test_split(X, y, test_size=0.2)"
   ]
  },
  {
   "cell_type": "markdown",
   "metadata": {},
   "source": [
    "**Train model, compute metrics**"
   ]
  },
  {
   "cell_type": "code",
   "execution_count": 16,
   "metadata": {},
   "outputs": [],
   "source": [
    "def test():\n",
    "    rf = RandomForestRegressor(n_estimators=50, oob_score=True, n_jobs=-1)\n",
    "    rf.fit(X_train, y_train)\n",
    "    oob = rf.oob_score_ # wow this is a terrible score\n",
    "    y_pred = rf.predict(X_test)\n",
    "    mae = mean_absolute_error(y_test, y_pred)\n",
    "    mse = mean_squared_error(y_test, y_pred)\n",
    "    r2 = r2_score(y_test, y_pred)\n",
    "    return (oob,r2,mae,mse)\n",
    "    df_metrics = pd.DataFrame([[oob,r2,mae,mse]],\n",
    "                              columns=['OOB', 'R^2', 'MAE', 'MSE'])\n",
    "    print(df_metrics)\n",
    "#    print(f\"{oob:4.2f}, {r2:5.2f}, {mae:5.2f}, {mse:.2f}\")"
   ]
  },
  {
   "cell_type": "markdown",
   "metadata": {},
   "source": [
    "**This error is stable; just variation due to RF**"
   ]
  },
  {
   "cell_type": "code",
   "execution_count": 17,
   "metadata": {},
   "outputs": [
    {
     "data": {
      "text/html": [
       "<div>\n",
       "<style scoped>\n",
       "    .dataframe tbody tr th:only-of-type {\n",
       "        vertical-align: middle;\n",
       "    }\n",
       "\n",
       "    .dataframe tbody tr th {\n",
       "        vertical-align: top;\n",
       "    }\n",
       "\n",
       "    .dataframe thead th {\n",
       "        text-align: right;\n",
       "    }\n",
       "</style>\n",
       "<table border=\"1\" class=\"dataframe\">\n",
       "  <thead>\n",
       "    <tr style=\"text-align: right;\">\n",
       "      <th></th>\n",
       "      <th>OOB</th>\n",
       "      <th>R^2</th>\n",
       "      <th>MAE</th>\n",
       "      <th>MSE</th>\n",
       "    </tr>\n",
       "  </thead>\n",
       "  <tbody>\n",
       "    <tr>\n",
       "      <th>0</th>\n",
       "      <td>-0.240</td>\n",
       "      <td>-1.382</td>\n",
       "      <td>564.634</td>\n",
       "      <td>285,794,218.569</td>\n",
       "    </tr>\n",
       "    <tr>\n",
       "      <th>1</th>\n",
       "      <td>-0.219</td>\n",
       "      <td>-0.516</td>\n",
       "      <td>531.900</td>\n",
       "      <td>181,932,479.737</td>\n",
       "    </tr>\n",
       "    <tr>\n",
       "      <th>2</th>\n",
       "      <td>-0.656</td>\n",
       "      <td>-4.080</td>\n",
       "      <td>643.307</td>\n",
       "      <td>609,460,959.343</td>\n",
       "    </tr>\n",
       "  </tbody>\n",
       "</table>\n",
       "</div>"
      ],
      "text/plain": [
       "     OOB    R^2     MAE             MSE\n",
       "0 -0.240 -1.382 564.634 285,794,218.569\n",
       "1 -0.219 -0.516 531.900 181,932,479.737\n",
       "2 -0.656 -4.080 643.307 609,460,959.343"
      ]
     },
     "execution_count": 17,
     "metadata": {},
     "output_type": "execute_result"
    }
   ],
   "source": [
    "pd.DataFrame([test() for i in range(3)], columns=['OOB', 'R^2', 'MAE', 'MSE'])"
   ]
  },
  {
   "cell_type": "markdown",
   "metadata": {},
   "source": [
    "**Very unstable if we pick more valid sets**"
   ]
  },
  {
   "cell_type": "code",
   "execution_count": 22,
   "metadata": {},
   "outputs": [
    {
     "data": {
      "text/html": [
       "<div>\n",
       "<style scoped>\n",
       "    .dataframe tbody tr th:only-of-type {\n",
       "        vertical-align: middle;\n",
       "    }\n",
       "\n",
       "    .dataframe tbody tr th {\n",
       "        vertical-align: top;\n",
       "    }\n",
       "\n",
       "    .dataframe thead th {\n",
       "        text-align: right;\n",
       "    }\n",
       "</style>\n",
       "<table border=\"1\" class=\"dataframe\">\n",
       "  <thead>\n",
       "    <tr style=\"text-align: right;\">\n",
       "      <th></th>\n",
       "      <th>OOB</th>\n",
       "      <th>R^2</th>\n",
       "      <th>MAE</th>\n",
       "      <th>MSE</th>\n",
       "    </tr>\n",
       "  </thead>\n",
       "  <tbody>\n",
       "    <tr>\n",
       "      <th>0</th>\n",
       "      <td>0.582</td>\n",
       "      <td>0.002</td>\n",
       "      <td>1,150.354</td>\n",
       "      <td>2,402,630,918.659</td>\n",
       "    </tr>\n",
       "    <tr>\n",
       "      <th>1</th>\n",
       "      <td>0.027</td>\n",
       "      <td>0.050</td>\n",
       "      <td>878.512</td>\n",
       "      <td>2,053,053,487.605</td>\n",
       "    </tr>\n",
       "    <tr>\n",
       "      <th>2</th>\n",
       "      <td>-0.309</td>\n",
       "      <td>0.323</td>\n",
       "      <td>408.299</td>\n",
       "      <td>3,852,177.529</td>\n",
       "    </tr>\n",
       "    <tr>\n",
       "      <th>3</th>\n",
       "      <td>-0.152</td>\n",
       "      <td>-44.812</td>\n",
       "      <td>527.185</td>\n",
       "      <td>265,146,585.910</td>\n",
       "    </tr>\n",
       "    <tr>\n",
       "      <th>4</th>\n",
       "      <td>-0.155</td>\n",
       "      <td>-0.105</td>\n",
       "      <td>404.700</td>\n",
       "      <td>7,275,725.459</td>\n",
       "    </tr>\n",
       "  </tbody>\n",
       "</table>\n",
       "</div>"
      ],
      "text/plain": [
       "     OOB     R^2       MAE               MSE\n",
       "0  0.582   0.002 1,150.354 2,402,630,918.659\n",
       "1  0.027   0.050   878.512 2,053,053,487.605\n",
       "2 -0.309   0.323   408.299     3,852,177.529\n",
       "3 -0.152 -44.812   527.185   265,146,585.910\n",
       "4 -0.155  -0.105   404.700     7,275,725.459"
      ]
     },
     "execution_count": 22,
     "metadata": {},
     "output_type": "execute_result"
    }
   ],
   "source": [
    "results = []\n",
    "for i in range(5):\n",
    "    X_train, X_test, y_train, y_test = train_test_split(X, y, test_size=0.2)\n",
    "    results.append( test() )\n",
    "df_results = pd.DataFrame(results, columns=['OOB', 'R^2', 'MAE', 'MSE'])\n",
    "df_results"
   ]
  },
  {
   "cell_type": "code",
   "execution_count": 23,
   "metadata": {},
   "outputs": [
    {
     "data": {
      "text/plain": [
       "OOB               0.347\n",
       "R^2              20.071\n",
       "MAE             329.170\n",
       "MSE   1,181,074,451.996\n",
       "dtype: float64"
      ]
     },
     "execution_count": 23,
     "metadata": {},
     "output_type": "execute_result"
    }
   ],
   "source": [
    "df_results.std()"
   ]
  },
  {
   "cell_type": "markdown",
   "metadata": {},
   "source": [
    "**Try k-fold**"
   ]
  },
  {
   "cell_type": "code",
   "execution_count": 28,
   "metadata": {},
   "outputs": [
    {
     "data": {
      "text/html": [
       "<div>\n",
       "<style scoped>\n",
       "    .dataframe tbody tr th:only-of-type {\n",
       "        vertical-align: middle;\n",
       "    }\n",
       "\n",
       "    .dataframe tbody tr th {\n",
       "        vertical-align: top;\n",
       "    }\n",
       "\n",
       "    .dataframe thead th {\n",
       "        text-align: right;\n",
       "    }\n",
       "</style>\n",
       "<table border=\"1\" class=\"dataframe\">\n",
       "  <thead>\n",
       "    <tr style=\"text-align: right;\">\n",
       "      <th></th>\n",
       "      <th>OOB</th>\n",
       "      <th>R^2</th>\n",
       "      <th>MAE</th>\n",
       "      <th>MSE</th>\n",
       "    </tr>\n",
       "  </thead>\n",
       "  <tbody>\n",
       "    <tr>\n",
       "      <th>0</th>\n",
       "      <td>-0.039</td>\n",
       "      <td>0.718</td>\n",
       "      <td>381.575</td>\n",
       "      <td>1,720,111.443</td>\n",
       "    </tr>\n",
       "    <tr>\n",
       "      <th>1</th>\n",
       "      <td>-0.290</td>\n",
       "      <td>-1.074</td>\n",
       "      <td>592.666</td>\n",
       "      <td>254,276,294.859</td>\n",
       "    </tr>\n",
       "    <tr>\n",
       "      <th>2</th>\n",
       "      <td>-0.052</td>\n",
       "      <td>0.027</td>\n",
       "      <td>501.273</td>\n",
       "      <td>135,483,954.396</td>\n",
       "    </tr>\n",
       "    <tr>\n",
       "      <th>3</th>\n",
       "      <td>-0.148</td>\n",
       "      <td>-46.047</td>\n",
       "      <td>551.861</td>\n",
       "      <td>267,634,042.184</td>\n",
       "    </tr>\n",
       "    <tr>\n",
       "      <th>4</th>\n",
       "      <td>0.046</td>\n",
       "      <td>0.045</td>\n",
       "      <td>885.087</td>\n",
       "      <td>2,064,334,690.084</td>\n",
       "    </tr>\n",
       "  </tbody>\n",
       "</table>\n",
       "</div>"
      ],
      "text/plain": [
       "     OOB     R^2     MAE               MSE\n",
       "0 -0.039   0.718 381.575     1,720,111.443\n",
       "1 -0.290  -1.074 592.666   254,276,294.859\n",
       "2 -0.052   0.027 501.273   135,483,954.396\n",
       "3 -0.148 -46.047 551.861   267,634,042.184\n",
       "4  0.046   0.045 885.087 2,064,334,690.084"
      ]
     },
     "execution_count": 28,
     "metadata": {},
     "output_type": "execute_result"
    }
   ],
   "source": [
    "k = 5\n",
    "kf = KFold(n_splits=k, shuffle=True)\n",
    "results = []\n",
    "for train_index, test_index in kf.split(X):\n",
    "    X_train, X_test = X.iloc[train_index], X.iloc[test_index]\n",
    "    y_train, y_test = y.iloc[train_index], y.iloc[test_index]\n",
    "    results.append( test() )\n",
    "df_results_kfold = pd.DataFrame(results, columns=['OOB', 'R^2', 'MAE', 'MSE'])\n",
    "df_results_kfold"
   ]
  },
  {
   "cell_type": "code",
   "execution_count": 30,
   "metadata": {},
   "outputs": [
    {
     "data": {
      "text/plain": [
       "OOB             0.128\n",
       "R^2            20.571\n",
       "MAE           186.795\n",
       "MSE   856,254,342.417\n",
       "dtype: float64"
      ]
     },
     "execution_count": 30,
     "metadata": {},
     "output_type": "execute_result"
    }
   ],
   "source": [
    "df_results_kfold.std() # still unstable; try running it multiple times"
   ]
  },
  {
   "cell_type": "code",
   "execution_count": 32,
   "metadata": {},
   "outputs": [
    {
     "data": {
      "text/plain": [
       "array([623.87163999, 422.87414852, 413.99398158, 511.28675747,\n",
       "       401.09123528])"
      ]
     },
     "execution_count": 32,
     "metadata": {},
     "output_type": "execute_result"
    }
   ],
   "source": [
    "k = 5\n",
    "cvscore = cross_val_score(\n",
    "\t\t\tRandomForestRegressor(n_estimators=50), # which model to use\n",
    "\t\t\tX_train, y_train, # what training data to split up\n",
    "\t\t\tcv=k, # number of folds/chunks\n",
    "\t\t\tscoring='neg_mean_absolute_error') # what error metric\n",
    "-cvscore"
   ]
  },
  {
   "cell_type": "markdown",
   "metadata": {},
   "source": [
    "## Classifiers"
   ]
  },
  {
   "cell_type": "code",
   "execution_count": 53,
   "metadata": {},
   "outputs": [
    {
     "data": {
      "text/plain": [
       "array([[35,  3],\n",
       "       [ 1, 75]])"
      ]
     },
     "execution_count": 53,
     "metadata": {},
     "output_type": "execute_result"
    }
   ],
   "source": [
    "from sklearn.metrics import confusion_matrix\n",
    "\n",
    "cancer = load_breast_cancer()\n",
    "X = cancer.data\n",
    "y = cancer.target\n",
    "\n",
    "X_train, X_test, y_train, y_test = train_test_split(X, y, test_size=0.2)\n",
    "\n",
    "rf = RandomForestClassifier(n_estimators=30, n_jobs=-1)\n",
    "rf.fit(X_train, y_train)\n",
    "y_pred = rf.predict(X_test)\n",
    "\n",
    "C = confusion_matrix(y_test, y_pred)\n",
    "C"
   ]
  },
  {
   "cell_type": "code",
   "execution_count": 54,
   "metadata": {},
   "outputs": [
    {
     "data": {
      "text/plain": [
       "(35, 3, 1, 75)"
      ]
     },
     "execution_count": 54,
     "metadata": {},
     "output_type": "execute_result"
    }
   ],
   "source": [
    "tn, fp, fn, tp = confusion_matrix(y_test, y_pred).flatten()\n",
    "tn, fp, fn, tp"
   ]
  }
 ],
 "metadata": {
  "kernelspec": {
   "display_name": "Python 3",
   "language": "python",
   "name": "python3"
  },
  "language_info": {
   "codemirror_mode": {
    "name": "ipython",
    "version": 3
   },
   "file_extension": ".py",
   "mimetype": "text/x-python",
   "name": "python",
   "nbconvert_exporter": "python",
   "pygments_lexer": "ipython3",
   "version": "3.7.1"
  }
 },
 "nbformat": 4,
 "nbformat_minor": 2
}
