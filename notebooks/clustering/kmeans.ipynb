{
 "cells": [
  {
   "cell_type": "markdown",
   "metadata": {},
   "source": [
    "# k-means clustering"
   ]
  },
  {
   "cell_type": "code",
   "execution_count": 1,
   "metadata": {},
   "outputs": [],
   "source": [
    "from sklearn.cluster import KMeans\n",
    "import numpy as np\n",
    "import pandas as pd\n",
    "import matplotlib.pyplot as plt\n",
    "from sklearn.datasets import load_boston, load_iris, load_wine, load_digits, \\\n",
    "                             load_breast_cancer, load_diabetes, fetch_mldata"
   ]
  },
  {
   "cell_type": "markdown",
   "metadata": {},
   "source": [
    "## MNIST digits"
   ]
  },
  {
   "cell_type": "code",
   "execution_count": 39,
   "metadata": {},
   "outputs": [],
   "source": [
    "df_digits = pd.read_csv(\"data/mnist-10k-sample.csv\")\n",
    "n = 3000\n",
    "df_subset = df_digits.sample(n=n, replace=False)\n",
    "images = df_subset.drop('digit', axis=1) # get just pixels\n",
    "y = df_subset['digit']"
   ]
  },
  {
   "cell_type": "code",
   "execution_count": 40,
   "metadata": {},
   "outputs": [
    {
     "name": "stdout",
     "output_type": "stream",
     "text": [
      "2956/3000=98.5% correct\n"
     ]
    }
   ],
   "source": [
    "k = 10\n",
    "kmeans = KMeans(k)\n",
    "kmeans.fit(df_subset.values)\n",
    "y_pred = kmeans.predict(df_subset)\n",
    "correct = np.sum(y!=y_pred)\n",
    "print(f\"{correct}/{n}={100*correct/n:.1f}% correct\")"
   ]
  },
  {
   "cell_type": "markdown",
   "metadata": {},
   "source": [
    "Test in a loop; varies a lot"
   ]
  },
  {
   "cell_type": "code",
   "execution_count": 106,
   "metadata": {},
   "outputs": [
    {
     "name": "stdout",
     "output_type": "stream",
     "text": [
      "997/1000=99.7% correct\n",
      "967/1000=96.7% correct\n",
      "973/1000=97.3% correct\n",
      "744/1000=74.4% correct\n",
      "906/1000=90.6% correct\n",
      "897/1000=89.7% correct\n",
      "900/1000=90.0% correct\n",
      "999/1000=99.9% correct\n",
      "998/1000=99.8% correct\n",
      "980/1000=98.0% correct\n",
      "Avg 936.1/1000=98.0% correct, stddev 7.51%\n"
     ]
    }
   ],
   "source": [
    "results = []\n",
    "for i in range(10):\n",
    "    n = 1000\n",
    "    df_subset = df_digits.sample(n=n, replace=False)\n",
    "    images = df_subset.drop('digit', axis=1) # get just pixels\n",
    "    y = df_subset['digit']\n",
    "    k = 10\n",
    "    kmeans = KMeans(k)\n",
    "    kmeans.fit(df_subset.values)\n",
    "    y_pred = kmeans.predict(df_subset)\n",
    "    correct = np.sum(y!=y_pred)\n",
    "    print(f\"{correct}/{n}={100*correct/n:.1f}% correct\")\n",
    "    results.append(correct)\n",
    "print(f\"Avg {np.mean(results)}/{n}={100*correct/n:.1f}% correct, stddev {100*np.std(results)/n:.2f}%\")"
   ]
  },
  {
   "cell_type": "markdown",
   "metadata": {},
   "source": [
    "## Breast cancer data"
   ]
  },
  {
   "cell_type": "code",
   "execution_count": 27,
   "metadata": {},
   "outputs": [],
   "source": [
    "cancer = load_breast_cancer()\n",
    "X = cancer.data\n",
    "y = cancer.target"
   ]
  },
  {
   "cell_type": "code",
   "execution_count": 67,
   "metadata": {},
   "outputs": [
    {
     "name": "stdout",
     "output_type": "stream",
     "text": [
      "83/569=14.6% correct\n",
      "83/569=14.6% correct\n",
      "83/569=14.6% correct\n",
      "486/569=85.4% correct\n",
      "486/569=85.4% correct\n",
      "83/569=14.6% correct\n",
      "83/569=14.6% correct\n",
      "486/569=85.4% correct\n",
      "83/569=14.6% correct\n",
      "83/569=14.6% correct\n",
      "486/569=85.4% correct\n",
      "486/569=85.4% correct\n",
      "83/569=14.6% correct\n",
      "486/569=85.4% correct\n",
      "83/569=14.6% correct\n",
      "Avg 244/569=42.9% correct, stddev 34.70%\n"
     ]
    }
   ],
   "source": [
    "results = []\n",
    "for i in range(15):\n",
    "    kmeans = KMeans(n_clusters=2, init='random')\n",
    "    kmeans.fit(X)\n",
    "    y_pred = kmeans.predict(X)\n",
    "    correct = np.sum(y!=y_pred)\n",
    "    print(f\"{correct}/{len(X)}={100*correct/len(X):.1f}% correct\")\n",
    "    results.append(correct)\n",
    "print(f\"Avg {np.mean(results):.0f}/{len(X)}={100*np.mean(results)/len(X):.1f}% correct, stddev {100*np.std(results)/len(X):.2f}%\")    "
   ]
  },
  {
   "cell_type": "code",
   "execution_count": 68,
   "metadata": {},
   "outputs": [
    {
     "data": {
      "text/plain": [
       "(569, 30)"
      ]
     },
     "execution_count": 68,
     "metadata": {},
     "output_type": "execute_result"
    }
   ],
   "source": [
    "X.shape"
   ]
  },
  {
   "cell_type": "code",
   "execution_count": null,
   "metadata": {},
   "outputs": [],
   "source": []
  }
 ],
 "metadata": {
  "kernelspec": {
   "display_name": "Python 3",
   "language": "python",
   "name": "python3"
  },
  "language_info": {
   "codemirror_mode": {
    "name": "ipython",
    "version": 3
   },
   "file_extension": ".py",
   "mimetype": "text/x-python",
   "name": "python",
   "nbconvert_exporter": "python",
   "pygments_lexer": "ipython3",
   "version": "3.7.1"
  }
 },
 "nbformat": 4,
 "nbformat_minor": 2
}
