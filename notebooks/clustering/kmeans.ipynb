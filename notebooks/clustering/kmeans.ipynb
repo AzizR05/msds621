{
 "cells": [
  {
   "cell_type": "markdown",
   "metadata": {},
   "source": [
    "# k-means clustering"
   ]
  },
  {
   "cell_type": "code",
   "execution_count": 23,
   "metadata": {},
   "outputs": [],
   "source": [
    "import numpy as np\n",
    "import pandas as pd\n",
    "import matplotlib.pyplot as plt\n",
    "\n",
    "from scipy.stats import mode\n",
    "\n",
    "from sklearn.cluster import KMeans\n",
    "from sklearn.preprocessing import normalize\n",
    "from sklearn.datasets import load_boston, load_iris, load_wine, load_digits, \\\n",
    "                             load_breast_cancer, load_diabetes, fetch_mldata\n",
    "\n",
    "def gini(x):\n",
    "    \"See https://en.wikipedia.org/wiki/Decision_tree_learning#Gini_impurity\"\n",
    "    unique, counts = np.unique(x, return_counts=True)\n",
    "    n = len(x)\n",
    "    return 1 - np.sum( (counts / n)**2 )"
   ]
  },
  {
   "cell_type": "markdown",
   "metadata": {},
   "source": [
    "## MNIST digits"
   ]
  },
  {
   "cell_type": "code",
   "execution_count": 72,
   "metadata": {},
   "outputs": [],
   "source": [
    "df_digits = pd.read_csv(\"data/mnist-10k-sample.csv\")\n",
    "n = 3000\n",
    "df_subset = df_digits.sample(n=n, replace=False)\n",
    "X = df_subset.drop('digit', axis=1) # get just pixels\n",
    "y = df_subset['digit']"
   ]
  },
  {
   "cell_type": "code",
   "execution_count": 73,
   "metadata": {},
   "outputs": [],
   "source": [
    "def imgrid(images,targets):\n",
    "    fig, axes = plt.subplots(5, 5, figsize=(4, 4)) # make 5x5 grid of plots\n",
    "    for i, ax in enumerate(axes.flat):\n",
    "        img_as_row = images.iloc[i].values\n",
    "        img28x28 = img_as_row.reshape(28,28)\n",
    "        ax.axis('off') # don't show x, y axes\n",
    "        ax.imshow(img28x28, cmap='Greys')\n",
    "        ax.text(0, 8, targets[i], color='#313695', fontsize=18)"
   ]
  },
  {
   "cell_type": "code",
   "execution_count": 74,
   "metadata": {},
   "outputs": [
    {
     "data": {
      "image/png": "[encoded data removed]",
      "text/plain": [
       "<Figure size 288x288 with 25 Axes>"
      ]
     },
     "metadata": {
      "needs_background": "light"
     },
     "output_type": "display_data"
    }
   ],
   "source": [
    "imgrid(X,targets=y.values)"
   ]
  },
  {
   "cell_type": "code",
   "execution_count": 75,
   "metadata": {},
   "outputs": [],
   "source": [
    "X = normalize(X)"
   ]
  },
  {
   "cell_type": "code",
   "execution_count": 80,
   "metadata": {},
   "outputs": [
    {
     "name": "stdout",
     "output_type": "stream",
     "text": [
      "[0.27, 0.55, 0.43, 0.34, 0.46, 0.65, 0.3, 0.53, 0.54, 0.66]\n",
      "[0.27, 0.51, 0.24, 0.41, 0.54, 0.58, 0.48, 0.53, 0.57, 0.71]\n",
      "[0.36, 0.51, 0.33, 0.52, 0.52, 0.72, 0.24, 0.4, 0.47, 0.61]\n",
      "[0.49, 0.53, 0.31, 0.56, 0.59, 0.68, 0.44, 0.51, 0.45, 0.57]\n",
      "[0.32, 0.53, 0.31, 0.5, 0.54, 0.69, 0.44, 0.45, 0.54, 0.55]\n",
      "[0.21, 0.54, 0.29, 0.17, 0.69, 0.76, 0.34, 0.54, 0.61, 0.68]\n",
      "[0.31, 0.54, 0.34, 0.4, 0.57, 0.69, 0.52, 0.48, 0.58, 0.66]\n",
      "[0.29, 0.51, 0.46, 0.54, 0.63, 0.71, 0.38, 0.48, 0.67, 0.65]\n",
      "[0.38, 0.52, 0.37, 0.53, 0.55, 0.62, 0.4, 0.47, 0.48, 0.61]\n",
      "[0.48, 0.5, 0.37, 0.59, 0.64, 0.72, 0.54, 0.61, 0.63, 0.62]\n"
     ]
    }
   ],
   "source": [
    "for i in range(10):\n",
    "    df_subset = df_digits.sample(n=1000, replace=False)\n",
    "    X = df_subset.drop('digit', axis=1) # get just pixels\n",
    "    y = df_subset['digit']\n",
    "    X = normalize(X)\n",
    "    kmeans = KMeans(10, init='random')\n",
    "    kmeans.fit(X)\n",
    "    y_pred = kmeans.predict(X)\n",
    "\n",
    "    # digit_idxs[d] tells us which X indexes are for digit d\n",
    "    digit_idxs = [np.where(y==d)[0] for d in range(10)]\n",
    "    # we don't know which of k clusters is for which digit but we can\n",
    "    # ask for the impurity of y_pred associated with known digit d group\n",
    "    print([round(gini(y_pred[digit_idxs[d]]),2) for d in range(10)])"
   ]
  },
  {
   "cell_type": "code",
   "execution_count": 92,
   "metadata": {},
   "outputs": [
    {
     "name": "stdout",
     "output_type": "stream",
     "text": [
      "[9 5 5 5 5 5 9 9 5 5 9 5 5 5 5 5 5 5 5 5 5 5 5 5 5 9 5 5 9 5 5 9 5 5 5 5 9\n",
      " 5 5 5 9 5 5 8 5 5 9 5 5 5 9 5 5 9 9 5 5 5 5 5 9 5 9 5 9 9 9 2 2 0 9 5 5 5\n",
      " 8 9 5 9 9 5 5 9 5 5 5 9 9 5 5 9 5 5 9 5 5 5 9 5 9]\n",
      "gini = 0.48219569431690645\n"
     ]
    }
   ],
   "source": [
    "print(y_pred[digit_idxs[0]])\n",
    "print('gini =', gini(y_pred[digit_idxs[0]]))"
   ]
  },
  {
   "cell_type": "code",
   "execution_count": 93,
   "metadata": {},
   "outputs": [
    {
     "name": "stdout",
     "output_type": "stream",
     "text": [
      "[1 6 8 6 1 1 1 1 8 6 6 8 4 6 6 8 1 6 3 6 6 6 6 6 1 6 6 8 1 1 4 1 6 8 1 8 1\n",
      " 6 8 6 6 6 3 1 1 8 6 3 6 8 6 8 8 8 1 5 6 6 1 6 6 6 1 6 1 6 6 6 1 1 1 6 6 6\n",
      " 6 8 6 6 6 6 6 1 1 1 8 6 6 1 1 6 6 6 6 6 1 6 6 6 8 6 6 8 6 8 8 6 6 1 6 6 6\n",
      " 6 6 1 6 6 6 6 8 6 1 3 6 6]\n",
      "gini = 0.6221383975026016\n"
     ]
    }
   ],
   "source": [
    "print(y_pred[digit_idxs[9]])\n",
    "print('gini =', gini(y_pred[digit_idxs[9]]))"
   ]
  },
  {
   "cell_type": "code",
   "execution_count": 78,
   "metadata": {},
   "outputs": [
    {
     "data": {
      "text/plain": [
       "array([   1,    6,   41,   49,   72,   74,   79,   82,   88,   95,  106,\n",
       "        114,  122,  130,  133,  139,  151,  179,  181,  182,  206,  217,\n",
       "        237,  246,  263,  270,  289,  293,  295,  308,  310,  314,  315,\n",
       "        322,  333,  339,  340,  342,  352,  354,  355,  356,  382,  383,\n",
       "        386,  406,  423,  430,  437,  449,  451,  452,  453,  459,  461,\n",
       "        463,  470,  489,  500,  505,  510,  512,  521,  523,  553,  575,\n",
       "        578,  580,  594,  624,  645,  650,  662,  663,  677,  685,  704,\n",
       "        713,  727,  730,  745,  772,  775,  801,  839,  848,  849,  851,\n",
       "        858,  859,  864,  879,  895,  897,  919,  926,  942,  959,  994,\n",
       "       1019, 1029, 1038, 1065, 1074, 1075, 1086, 1092, 1093, 1102, 1104,\n",
       "       1105, 1108, 1109, 1116, 1120, 1121, 1125, 1136, 1150, 1157, 1159,\n",
       "       1168, 1171, 1178, 1182, 1200, 1233, 1234, 1274, 1292, 1323, 1329,\n",
       "       1346, 1353, 1361, 1366, 1375, 1382, 1386, 1404, 1407, 1423, 1424,\n",
       "       1426, 1449, 1453, 1458, 1463, 1480, 1484, 1487, 1491, 1496, 1503,\n",
       "       1533, 1539, 1544, 1554, 1559, 1565, 1571, 1585, 1586, 1587, 1595,\n",
       "       1612, 1613, 1634, 1672, 1682, 1693, 1694, 1697, 1717, 1731, 1736,\n",
       "       1745, 1754, 1755, 1774, 1787, 1802, 1807, 1817, 1832, 1836, 1843,\n",
       "       1846, 1861, 1874, 1884, 1887, 1893, 1903, 1913, 1915, 1921, 1929,\n",
       "       1931, 1939, 1948, 1954, 1958, 1966, 2007, 2014, 2016, 2019, 2026,\n",
       "       2045, 2059, 2067, 2070, 2091, 2112, 2127, 2135, 2137, 2148, 2155,\n",
       "       2156, 2164, 2176, 2181, 2203, 2237, 2242, 2263, 2268, 2286, 2297,\n",
       "       2298, 2302, 2305, 2364, 2373, 2378, 2396, 2404, 2442, 2447, 2455,\n",
       "       2459, 2467, 2470, 2490, 2497, 2501, 2509, 2514, 2525, 2526, 2536,\n",
       "       2543, 2554, 2563, 2578, 2581, 2583, 2593, 2608, 2617, 2625, 2634,\n",
       "       2643, 2646, 2652, 2657, 2679, 2710, 2713, 2732, 2733, 2754, 2759,\n",
       "       2774, 2780, 2786, 2797, 2810, 2826, 2832, 2833, 2834, 2838, 2849,\n",
       "       2869, 2870, 2879, 2885, 2887, 2901, 2913, 2936, 2950, 2954, 2961,\n",
       "       2968, 2981, 2989, 2994, 2996])"
      ]
     },
     "execution_count": 78,
     "metadata": {},
     "output_type": "execute_result"
    }
   ],
   "source": [
    "np.where(y==2)[0]"
   ]
  },
  {
   "cell_type": "code",
   "execution_count": 10,
   "metadata": {},
   "outputs": [
    {
     "name": "stdout",
     "output_type": "stream",
     "text": [
      "932/1000=93.2% correct\n",
      "961/1000=96.1% correct\n",
      "773/1000=77.3% correct\n",
      "875/1000=87.5% correct\n"
     ]
    },
    {
     "ename": "KeyboardInterrupt",
     "evalue": "",
     "output_type": "error",
     "traceback": [
      "\u001b[0;31m---------------------------------------------------------------------------\u001b[0m",
      "\u001b[0;31mKeyboardInterrupt\u001b[0m                         Traceback (most recent call last)",
      "\u001b[0;32m<ipython-input-10-5a57d0706fff>\u001b[0m in \u001b[0;36m<module>\u001b[0;34m\u001b[0m\n\u001b[1;32m      7\u001b[0m     \u001b[0my\u001b[0m \u001b[0;34m=\u001b[0m \u001b[0mdf_subset\u001b[0m\u001b[0;34m[\u001b[0m\u001b[0;34m'digit'\u001b[0m\u001b[0;34m]\u001b[0m\u001b[0;34m\u001b[0m\u001b[0;34m\u001b[0m\u001b[0m\n\u001b[1;32m      8\u001b[0m     \u001b[0mkmeans\u001b[0m \u001b[0;34m=\u001b[0m \u001b[0mKMeans\u001b[0m\u001b[0;34m(\u001b[0m\u001b[0;36m10\u001b[0m\u001b[0;34m,\u001b[0m \u001b[0minit\u001b[0m\u001b[0;34m=\u001b[0m\u001b[0;34m'random'\u001b[0m\u001b[0;34m)\u001b[0m\u001b[0;34m\u001b[0m\u001b[0;34m\u001b[0m\u001b[0m\n\u001b[0;32m----> 9\u001b[0;31m     \u001b[0mkmeans\u001b[0m\u001b[0;34m.\u001b[0m\u001b[0mfit\u001b[0m\u001b[0;34m(\u001b[0m\u001b[0mX\u001b[0m\u001b[0;34m)\u001b[0m\u001b[0;34m\u001b[0m\u001b[0;34m\u001b[0m\u001b[0m\n\u001b[0m\u001b[1;32m     10\u001b[0m     \u001b[0my_pred\u001b[0m \u001b[0;34m=\u001b[0m \u001b[0mkmeans\u001b[0m\u001b[0;34m.\u001b[0m\u001b[0mpredict\u001b[0m\u001b[0;34m(\u001b[0m\u001b[0mX\u001b[0m\u001b[0;34m)\u001b[0m\u001b[0;34m\u001b[0m\u001b[0;34m\u001b[0m\u001b[0m\n\u001b[1;32m     11\u001b[0m     \u001b[0mcorrect\u001b[0m \u001b[0;34m=\u001b[0m \u001b[0mnp\u001b[0m\u001b[0;34m.\u001b[0m\u001b[0msum\u001b[0m\u001b[0;34m(\u001b[0m\u001b[0my\u001b[0m\u001b[0;34m!=\u001b[0m\u001b[0my_pred\u001b[0m\u001b[0;34m)\u001b[0m\u001b[0;34m\u001b[0m\u001b[0;34m\u001b[0m\u001b[0m\n",
      "\u001b[0;32m~/anaconda3/lib/python3.7/site-packages/sklearn/cluster/k_means_.py\u001b[0m in \u001b[0;36mfit\u001b[0;34m(self, X, y, sample_weight)\u001b[0m\n\u001b[1;32m    970\u001b[0m                 \u001b[0mtol\u001b[0m\u001b[0;34m=\u001b[0m\u001b[0mself\u001b[0m\u001b[0;34m.\u001b[0m\u001b[0mtol\u001b[0m\u001b[0;34m,\u001b[0m \u001b[0mrandom_state\u001b[0m\u001b[0;34m=\u001b[0m\u001b[0mrandom_state\u001b[0m\u001b[0;34m,\u001b[0m \u001b[0mcopy_x\u001b[0m\u001b[0;34m=\u001b[0m\u001b[0mself\u001b[0m\u001b[0;34m.\u001b[0m\u001b[0mcopy_x\u001b[0m\u001b[0;34m,\u001b[0m\u001b[0;34m\u001b[0m\u001b[0;34m\u001b[0m\u001b[0m\n\u001b[1;32m    971\u001b[0m                 \u001b[0mn_jobs\u001b[0m\u001b[0;34m=\u001b[0m\u001b[0mself\u001b[0m\u001b[0;34m.\u001b[0m\u001b[0mn_jobs\u001b[0m\u001b[0;34m,\u001b[0m \u001b[0malgorithm\u001b[0m\u001b[0;34m=\u001b[0m\u001b[0mself\u001b[0m\u001b[0;34m.\u001b[0m\u001b[0malgorithm\u001b[0m\u001b[0;34m,\u001b[0m\u001b[0;34m\u001b[0m\u001b[0;34m\u001b[0m\u001b[0m\n\u001b[0;32m--> 972\u001b[0;31m                 return_n_iter=True)\n\u001b[0m\u001b[1;32m    973\u001b[0m         \u001b[0;32mreturn\u001b[0m \u001b[0mself\u001b[0m\u001b[0;34m\u001b[0m\u001b[0;34m\u001b[0m\u001b[0m\n\u001b[1;32m    974\u001b[0m \u001b[0;34m\u001b[0m\u001b[0m\n",
      "\u001b[0;32m~/anaconda3/lib/python3.7/site-packages/sklearn/cluster/k_means_.py\u001b[0m in \u001b[0;36mk_means\u001b[0;34m(X, n_clusters, sample_weight, init, precompute_distances, n_init, max_iter, verbose, tol, random_state, copy_x, n_jobs, algorithm, return_n_iter)\u001b[0m\n\u001b[1;32m    379\u001b[0m                 \u001b[0mverbose\u001b[0m\u001b[0;34m=\u001b[0m\u001b[0mverbose\u001b[0m\u001b[0;34m,\u001b[0m \u001b[0mprecompute_distances\u001b[0m\u001b[0;34m=\u001b[0m\u001b[0mprecompute_distances\u001b[0m\u001b[0;34m,\u001b[0m\u001b[0;34m\u001b[0m\u001b[0;34m\u001b[0m\u001b[0m\n\u001b[1;32m    380\u001b[0m                 \u001b[0mtol\u001b[0m\u001b[0;34m=\u001b[0m\u001b[0mtol\u001b[0m\u001b[0;34m,\u001b[0m \u001b[0mx_squared_norms\u001b[0m\u001b[0;34m=\u001b[0m\u001b[0mx_squared_norms\u001b[0m\u001b[0;34m,\u001b[0m\u001b[0;34m\u001b[0m\u001b[0;34m\u001b[0m\u001b[0m\n\u001b[0;32m--> 381\u001b[0;31m                 random_state=random_state)\n\u001b[0m\u001b[1;32m    382\u001b[0m             \u001b[0;31m# determine if these results are the best so far\u001b[0m\u001b[0;34m\u001b[0m\u001b[0;34m\u001b[0m\u001b[0;34m\u001b[0m\u001b[0m\n\u001b[1;32m    383\u001b[0m             \u001b[0;32mif\u001b[0m \u001b[0mbest_inertia\u001b[0m \u001b[0;32mis\u001b[0m \u001b[0;32mNone\u001b[0m \u001b[0;32mor\u001b[0m \u001b[0minertia\u001b[0m \u001b[0;34m<\u001b[0m \u001b[0mbest_inertia\u001b[0m\u001b[0;34m:\u001b[0m\u001b[0;34m\u001b[0m\u001b[0;34m\u001b[0m\u001b[0m\n",
      "\u001b[0;32m~/anaconda3/lib/python3.7/site-packages/sklearn/cluster/k_means_.py\u001b[0m in \u001b[0;36m_kmeans_single_elkan\u001b[0;34m(X, sample_weight, n_clusters, max_iter, init, verbose, x_squared_norms, random_state, tol, precompute_distances)\u001b[0m\n\u001b[1;32m    443\u001b[0m     centers, labels, n_iter = k_means_elkan(X, checked_sample_weight,\n\u001b[1;32m    444\u001b[0m                                             \u001b[0mn_clusters\u001b[0m\u001b[0;34m,\u001b[0m \u001b[0mcenters\u001b[0m\u001b[0;34m,\u001b[0m \u001b[0mtol\u001b[0m\u001b[0;34m=\u001b[0m\u001b[0mtol\u001b[0m\u001b[0;34m,\u001b[0m\u001b[0;34m\u001b[0m\u001b[0;34m\u001b[0m\u001b[0m\n\u001b[0;32m--> 445\u001b[0;31m                                             max_iter=max_iter, verbose=verbose)\n\u001b[0m\u001b[1;32m    446\u001b[0m     \u001b[0;32mif\u001b[0m \u001b[0msample_weight\u001b[0m \u001b[0;32mis\u001b[0m \u001b[0;32mNone\u001b[0m\u001b[0;34m:\u001b[0m\u001b[0;34m\u001b[0m\u001b[0;34m\u001b[0m\u001b[0m\n\u001b[1;32m    447\u001b[0m         \u001b[0minertia\u001b[0m \u001b[0;34m=\u001b[0m \u001b[0mnp\u001b[0m\u001b[0;34m.\u001b[0m\u001b[0msum\u001b[0m\u001b[0;34m(\u001b[0m\u001b[0;34m(\u001b[0m\u001b[0mX\u001b[0m \u001b[0;34m-\u001b[0m \u001b[0mcenters\u001b[0m\u001b[0;34m[\u001b[0m\u001b[0mlabels\u001b[0m\u001b[0;34m]\u001b[0m\u001b[0;34m)\u001b[0m \u001b[0;34m**\u001b[0m \u001b[0;36m2\u001b[0m\u001b[0;34m,\u001b[0m \u001b[0mdtype\u001b[0m\u001b[0;34m=\u001b[0m\u001b[0mnp\u001b[0m\u001b[0;34m.\u001b[0m\u001b[0mfloat64\u001b[0m\u001b[0;34m)\u001b[0m\u001b[0;34m\u001b[0m\u001b[0;34m\u001b[0m\u001b[0m\n",
      "\u001b[0;32msklearn/cluster/_k_means_elkan.pyx\u001b[0m in \u001b[0;36msklearn.cluster._k_means_elkan.k_means_elkan\u001b[0;34m()\u001b[0m\n",
      "\u001b[0;32m~/anaconda3/lib/python3.7/site-packages/numpy/core/fromnumeric.py\u001b[0m in \u001b[0;36msum\u001b[0;34m(a, axis, dtype, out, keepdims, initial)\u001b[0m\n\u001b[1;32m   1819\u001b[0m \u001b[0;34m\u001b[0m\u001b[0m\n\u001b[1;32m   1820\u001b[0m \u001b[0;34m\u001b[0m\u001b[0m\n\u001b[0;32m-> 1821\u001b[0;31m \u001b[0;32mdef\u001b[0m \u001b[0msum\u001b[0m\u001b[0;34m(\u001b[0m\u001b[0ma\u001b[0m\u001b[0;34m,\u001b[0m \u001b[0maxis\u001b[0m\u001b[0;34m=\u001b[0m\u001b[0;32mNone\u001b[0m\u001b[0;34m,\u001b[0m \u001b[0mdtype\u001b[0m\u001b[0;34m=\u001b[0m\u001b[0;32mNone\u001b[0m\u001b[0;34m,\u001b[0m \u001b[0mout\u001b[0m\u001b[0;34m=\u001b[0m\u001b[0;32mNone\u001b[0m\u001b[0;34m,\u001b[0m \u001b[0mkeepdims\u001b[0m\u001b[0;34m=\u001b[0m\u001b[0mnp\u001b[0m\u001b[0;34m.\u001b[0m\u001b[0m_NoValue\u001b[0m\u001b[0;34m,\u001b[0m \u001b[0minitial\u001b[0m\u001b[0;34m=\u001b[0m\u001b[0mnp\u001b[0m\u001b[0;34m.\u001b[0m\u001b[0m_NoValue\u001b[0m\u001b[0;34m)\u001b[0m\u001b[0;34m:\u001b[0m\u001b[0;34m\u001b[0m\u001b[0;34m\u001b[0m\u001b[0m\n\u001b[0m\u001b[1;32m   1822\u001b[0m     \"\"\"\n\u001b[1;32m   1823\u001b[0m     \u001b[0mSum\u001b[0m \u001b[0mof\u001b[0m \u001b[0marray\u001b[0m \u001b[0melements\u001b[0m \u001b[0mover\u001b[0m \u001b[0ma\u001b[0m \u001b[0mgiven\u001b[0m \u001b[0maxis\u001b[0m\u001b[0;34m.\u001b[0m\u001b[0;34m\u001b[0m\u001b[0;34m\u001b[0m\u001b[0m\n",
      "\u001b[0;31mKeyboardInterrupt\u001b[0m: "
     ]
    }
   ],
   "source": [
    "results = []\n",
    "for i in range(10):\n",
    "    n = 1000\n",
    "    df_subset = df_digits.sample(n=n, replace=False)\n",
    "    X = df_subset.drop('digit', axis=1) # get just pixels\n",
    "    X = normalize(X)\n",
    "    y = df_subset['digit']\n",
    "    kmeans = KMeans(10, init='random')\n",
    "    kmeans.fit(X)\n",
    "    y_pred = kmeans.predict(X)\n",
    "    correct = np.sum(y!=y_pred)\n",
    "    print(f\"{correct}/{n}={100*correct/n:.1f}% correct\")\n",
    "    results.append(correct)\n",
    "print(f\"Avg {np.mean(results)}/{n}={100*correct/n:.1f}% correct, stddev {100*np.std(results)/n:.2f}\")"
   ]
  },
  {
   "cell_type": "markdown",
   "metadata": {},
   "source": [
    "## Breast cancer data"
   ]
  },
  {
   "cell_type": "code",
   "execution_count": 11,
   "metadata": {},
   "outputs": [],
   "source": [
    "cancer = load_breast_cancer()\n",
    "X = cancer.data\n",
    "y = cancer.target"
   ]
  },
  {
   "cell_type": "code",
   "execution_count": 12,
   "metadata": {},
   "outputs": [
    {
     "data": {
      "text/plain": [
       "(212, 357)"
      ]
     },
     "execution_count": 12,
     "metadata": {},
     "output_type": "execute_result"
    }
   ],
   "source": [
    "cancer = np.where(y==0)[0]\n",
    "benign = np.where(y==1)[0]\n",
    "len(cancer), len(benign)"
   ]
  },
  {
   "cell_type": "code",
   "execution_count": 34,
   "metadata": {},
   "outputs": [
    {
     "data": {
      "text/html": [
       "<div>\n",
       "<style scoped>\n",
       "    .dataframe tbody tr th:only-of-type {\n",
       "        vertical-align: middle;\n",
       "    }\n",
       "\n",
       "    .dataframe tbody tr th {\n",
       "        vertical-align: top;\n",
       "    }\n",
       "\n",
       "    .dataframe thead th {\n",
       "        text-align: right;\n",
       "    }\n",
       "</style>\n",
       "<table border=\"1\" class=\"dataframe\">\n",
       "  <thead>\n",
       "    <tr style=\"text-align: right;\">\n",
       "      <th></th>\n",
       "      <th>0</th>\n",
       "      <th>1</th>\n",
       "    </tr>\n",
       "  </thead>\n",
       "  <tbody>\n",
       "    <tr>\n",
       "      <th>0</th>\n",
       "      <td>356</td>\n",
       "      <td>1</td>\n",
       "    </tr>\n",
       "    <tr>\n",
       "      <th>1</th>\n",
       "      <td>82</td>\n",
       "      <td>130</td>\n",
       "    </tr>\n",
       "  </tbody>\n",
       "</table>\n",
       "</div>"
      ],
      "text/plain": [
       "     0    1\n",
       "0  356    1\n",
       "1   82  130"
      ]
     },
     "execution_count": 34,
     "metadata": {},
     "output_type": "execute_result"
    }
   ],
   "source": [
    "kmeans = KMeans(n_clusters=2, init='k-means++')\n",
    "kmeans.fit(X)\n",
    "y_pred = kmeans.predict(X)\n",
    "\n",
    "true_benign = np.unique(y_pred[benign], return_counts=True)[1]\n",
    "true_cancer = np.unique(y_pred[cancer], return_counts=True)[1]\n",
    "conf_matrix = np.concatenate([[true_benign],\n",
    "                              [true_cancer]], axis=0)\n",
    "\n",
    "pd.DataFrame(conf_matrix)"
   ]
  },
  {
   "cell_type": "code",
   "execution_count": 48,
   "metadata": {},
   "outputs": [
    {
     "data": {
      "text/plain": [
       "(0.0055865483448280795, 0.4743681025275899)"
      ]
     },
     "execution_count": 48,
     "metadata": {},
     "output_type": "execute_result"
    }
   ],
   "source": [
    "gini(y_pred[benign]), gini(y_pred[cancer])"
   ]
  },
  {
   "cell_type": "code",
   "execution_count": null,
   "metadata": {},
   "outputs": [],
   "source": [
    "X.shape"
   ]
  },
  {
   "cell_type": "markdown",
   "metadata": {},
   "source": [
    "## Image color vector quantization\n",
    "\n",
    "From [sklearn](https://scikit-learn.org/stable/auto_examples/cluster/plot_color_quantization.html)\n",
    "\n",
    "Modified by parrt to load custom image."
   ]
  },
  {
   "cell_type": "code",
   "execution_count": null,
   "metadata": {},
   "outputs": [],
   "source": [
    "%config InlineBackend.figure_formats = ['svg']\n",
    "\n",
    "# Authors: Robert Layton <robertlayton@gmail.com>\n",
    "#          Olivier Grisel <olivier.grisel@ensta.org>\n",
    "#          Mathieu Blondel <mathieu@mblondel.org>\n",
    "#\n",
    "# License: BSD 3 clause\n",
    "\n",
    "print(__doc__)\n",
    "import numpy as np\n",
    "import matplotlib.pyplot as plt\n",
    "from sklearn.cluster import KMeans\n",
    "from sklearn.metrics import pairwise_distances_argmin\n",
    "from sklearn.datasets import load_sample_image\n",
    "from sklearn.utils import shuffle\n",
    "from skimage.io import imread\n",
    "from time import time\n",
    "\n",
    "def demo(n_colors = 10):\n",
    "    parrt = imread(\"parrt.jpg\")\n",
    "\n",
    "    # Convert to floats instead of the default 8 bits integer coding. Dividing by\n",
    "    # 255 is important so that plt.imshow behaves works well on float data (need to\n",
    "    # be in the range [0-1])\n",
    "    parrt = np.array(parrt, dtype=np.float64) / 255\n",
    "\n",
    "    # Load Image and transform to a 2D numpy array.\n",
    "    w, h, d = original_shape = tuple(parrt.shape)\n",
    "    assert d == 3\n",
    "    image_array = np.reshape(parrt, (w * h, d))\n",
    "\n",
    "    print(\"Fitting model on a small sub-sample of the data\")\n",
    "    t0 = time()\n",
    "    image_array_sample = shuffle(image_array, random_state=0)[:2000]\n",
    "    kmeans = KMeans(n_clusters=n_colors, random_state=0).fit(image_array_sample)\n",
    "    print(\"done in %0.3fs.\" % (time() - t0))\n",
    "\n",
    "    # Get labels for all points\n",
    "    print(\"Predicting color indices on the full image (k-means)\")\n",
    "    t0 = time()\n",
    "    labels = kmeans.predict(image_array)\n",
    "    print(\"done in %0.3fs.\" % (time() - t0))\n",
    "\n",
    "\n",
    "    codebook_random = shuffle(image_array, random_state=0)[:n_colors]\n",
    "    print(\"Predicting color indices on the full image (random)\")\n",
    "    t0 = time()\n",
    "    labels_random = pairwise_distances_argmin(codebook_random,\n",
    "                                              image_array,\n",
    "                                              axis=0)\n",
    "    print(\"done in %0.3fs.\" % (time() - t0))\n",
    "\n",
    "\n",
    "    def recreate_image(codebook, labels, w, h):\n",
    "        \"\"\"Recreate the (compressed) image from the code book & labels\"\"\"\n",
    "        d = codebook.shape[1]\n",
    "        image = np.zeros((w, h, d))\n",
    "        label_idx = 0\n",
    "        for i in range(w):\n",
    "            for j in range(h):\n",
    "                image[i][j] = codebook[labels[label_idx]]\n",
    "                label_idx += 1\n",
    "        return image\n",
    "\n",
    "    # Display all results, alongside original image\n",
    "    fig, axes = plt.subplots(1,3,figsize=(10,10))\n",
    "    axes[0].axis('off')\n",
    "    axes[0].set_title(f'Original image\\n(96,615 colors)', fontsize=14)\n",
    "    axes[0].imshow(parrt)\n",
    "\n",
    "    axes[1].axis('off')\n",
    "    axes[1].set_title(f'Quantized image\\n({n_colors} colors, k-Means)', fontsize=14)\n",
    "    axes[1].imshow(recreate_image(kmeans.cluster_centers_, labels, w, h))\n",
    "\n",
    "    axes[2].axis('off')\n",
    "    axes[2].set_title(f'Quantized image\\n({n_colors} colors, at random)', fontsize=14)\n",
    "    axes[2].imshow(recreate_image(codebook_random, labels_random, w, h))\n",
    "    plt.tight_layout()\n",
    "    plt.savefig(\"/Users/parrt/Desktop/parrt-quantized.jpg\", bbox_inches=0)\n",
    "    plt.show()"
   ]
  },
  {
   "cell_type": "code",
   "execution_count": null,
   "metadata": {},
   "outputs": [],
   "source": [
    "demo(n_colors=10)"
   ]
  },
  {
   "cell_type": "code",
   "execution_count": null,
   "metadata": {},
   "outputs": [],
   "source": [
    "demo(n_colors=4)"
   ]
  }
 ],
 "metadata": {
  "kernelspec": {
   "display_name": "Python 3",
   "language": "python",
   "name": "python3"
  },
  "language_info": {
   "codemirror_mode": {
    "name": "ipython",
    "version": 3
   },
   "file_extension": ".py",
   "mimetype": "text/x-python",
   "name": "python",
   "nbconvert_exporter": "python",
   "pygments_lexer": "ipython3",
   "version": "3.7.3"
  }
 },
 "nbformat": 4,
 "nbformat_minor": 4
}
