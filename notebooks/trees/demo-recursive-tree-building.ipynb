{
 "cells": [
  {
   "cell_type": "markdown",
   "metadata": {},
   "source": [
    "## Regress tree midpoint split for Boston dataset"
   ]
  },
  {
   "cell_type": "code",
   "execution_count": null,
   "metadata": {},
   "outputs": [],
   "source": [
    "import numpy as np\n",
    "import pandas as pd\n",
    "\n",
    "from sklearn.linear_model import LinearRegression, Ridge, Lasso, LogisticRegression\n",
    "from sklearn.ensemble import RandomForestClassifier, RandomForestRegressor\n",
    "from sklearn.datasets import load_boston, load_iris, load_wine, load_digits, \\\n",
    "                             load_breast_cancer, load_diabetes, fetch_mldata\n",
    "from sklearn.model_selection import train_test_split\n",
    "from sklearn.metrics import confusion_matrix, precision_score, recall_score\n",
    "\n",
    "from sklearn.tree import DecisionTreeClassifier, DecisionTreeRegressor\n",
    "from sklearn.metrics import mean_absolute_error\n",
    "\n",
    "import matplotlib.pyplot as plt\n",
    "%config InlineBackend.figure_format = 'svg'\n",
    "\n",
    "from sklearn import tree\n",
    "from dtreeviz.trees import *\n",
    "from lolviz import treeviz"
   ]
  },
  {
   "cell_type": "code",
   "execution_count": null,
   "metadata": {},
   "outputs": [],
   "source": [
    "class TreeNode: # acts as decision node and leaf. it's a leaf if split is None\n",
    "  def __init__(self, split=None, prediction=None, left=None, right=None):\n",
    "    self.split = split\n",
    "    self.prediction = prediction\n",
    "    self.left = left\n",
    "    self.right = right\n",
    "  def __repr__(self):\n",
    "    return str(self.value)\n",
    "  def __str__(self):\n",
    "    return str(self.value)"
   ]
  },
  {
   "cell_type": "code",
   "execution_count": null,
   "metadata": {},
   "outputs": [],
   "source": [
    "boston = load_boston()\n",
    "X = boston.data\n",
    "y = boston.target\n",
    "boston.feature_names"
   ]
  },
  {
   "cell_type": "markdown",
   "metadata": {},
   "source": [
    "### Boston midpoint stump"
   ]
  },
  {
   "cell_type": "code",
   "execution_count": null,
   "metadata": {},
   "outputs": [],
   "source": [
    "def stumpfit(x, y):\n",
    "    if len(x)==1 or len(np.unique(x))==1: # if one x value, make leaf\n",
    "        return TreeNode(prediction=y[0])\n",
    "    split = (min(x) + max(x)) / 2 # midpoint\n",
    "    t = TreeNode(split)\n",
    "    t.left = TreeNode(prediction=np.mean(y[x<split]))\n",
    "    t.right = TreeNode(prediction=np.mean(y[x>=split]))\n",
    "    return t"
   ]
  },
  {
   "cell_type": "code",
   "execution_count": null,
   "metadata": {},
   "outputs": [],
   "source": [
    "print(len(X), \"records\")\n",
    "age = X[:,6]\n",
    "stump = stumpfit(age,y)\n",
    "treeviz(stump)"
   ]
  },
  {
   "cell_type": "markdown",
   "metadata": {},
   "source": [
    "### Boston midpoint tree"
   ]
  },
  {
   "cell_type": "code",
   "execution_count": null,
   "metadata": {},
   "outputs": [],
   "source": [
    "def treefit(x, y):\n",
    "    if len(x)==1 or len(np.unique(x))==1: # if one x value, make leaf\n",
    "        return TreeNode(prediction=y[0])\n",
    "    split = (min(x) + max(x)) / 2 # midpoint\n",
    "    t = TreeNode(split)\n",
    "    t.left  = treefit(x[x<split],  y[x<split])\n",
    "    t.right = treefit(x[x>=split], y[x>=split])\n",
    "    return t"
   ]
  },
  {
   "cell_type": "code",
   "execution_count": null,
   "metadata": {},
   "outputs": [],
   "source": [
    "root = treefit(age,y)\n",
    "treeviz(root)"
   ]
  },
  {
   "cell_type": "markdown",
   "metadata": {},
   "source": [
    "## Dynamic method call demo"
   ]
  },
  {
   "cell_type": "code",
   "execution_count": 1,
   "metadata": {},
   "outputs": [],
   "source": [
    "class DecisionNode:\n",
    "    def hello(self):\n",
    "        print(\"woof\")\n",
    "\n",
    "class LeafNode:\n",
    "    def hello(self):\n",
    "        print(\"meow\")"
   ]
  },
  {
   "cell_type": "code",
   "execution_count": 2,
   "metadata": {},
   "outputs": [
    {
     "name": "stdout",
     "output_type": "stream",
     "text": [
      "woof\n",
      "meow\n"
     ]
    }
   ],
   "source": [
    "d = DecisionNode()\n",
    "d.hello()\n",
    "l = LeafNode()\n",
    "l.hello()"
   ]
  },
  {
   "cell_type": "code",
   "execution_count": 3,
   "metadata": {},
   "outputs": [],
   "source": [
    "def foo(x):\n",
    "    x.hello()"
   ]
  },
  {
   "cell_type": "code",
   "execution_count": null,
   "metadata": {},
   "outputs": [],
   "source": [
    "foo(d)"
   ]
  },
  {
   "cell_type": "code",
   "execution_count": null,
   "metadata": {},
   "outputs": [],
   "source": [
    "foo(l)"
   ]
  }
 ],
 "metadata": {
  "kernelspec": {
   "display_name": "Python 3",
   "language": "python",
   "name": "python3"
  },
  "language_info": {
   "codemirror_mode": {
    "name": "ipython",
    "version": 3
   },
   "file_extension": ".py",
   "mimetype": "text/x-python",
   "name": "python",
   "nbconvert_exporter": "python",
   "pygments_lexer": "ipython3",
   "version": "3.7.3"
  }
 },
 "nbformat": 4,
 "nbformat_minor": 4
}
